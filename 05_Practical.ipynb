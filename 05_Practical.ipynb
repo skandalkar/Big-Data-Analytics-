{
 "cells": [
  {
   "cell_type": "markdown",
   "id": "9db27862-d138-45ec-91e3-a4ef577f8ab7",
   "metadata": {},
   "source": [
    "Practical No. 05"
   ]
  },
  {
   "cell_type": "markdown",
   "id": "4fef101f-f737-4c04-9a16-31ace0131e96",
   "metadata": {},
   "source": [
    "Aim : To perform and analysis of T Test parametric Test"
   ]
  },
  {
   "cell_type": "code",
   "execution_count": 3,
   "id": "4acb8265-eb74-419f-a399-20ca670de4d8",
   "metadata": {},
   "outputs": [],
   "source": [
    "#Name : Santosh G. Kandalkar\n",
    "#Roll no. : 74 (BDA-B74)\n",
    "#Section : B\n",
    "#Subject : PE-II\n",
    "#Date : "
   ]
  },
  {
   "cell_type": "code",
   "execution_count": null,
   "id": "41d2413a-c303-449d-b3e0-6710f5fa82b1",
   "metadata": {},
   "outputs": [],
   "source": []
  },
  {
   "cell_type": "markdown",
   "id": "10798ca8-80a0-4ecf-bd38-070707878898",
   "metadata": {},
   "source": [
    "T Test A t-test is a type of inferential statistic which is used to determine if there is a significant difference between the means of two groups which may be related in certain features"
   ]
  },
  {
   "cell_type": "code",
   "execution_count": 54,
   "id": "8802a41a-ec72-4eb7-ac26-27756935b35e",
   "metadata": {},
   "outputs": [],
   "source": [
    "ages=[10, 20, 30, 35, 25, 18, 15, 40, 59, 65, 10, 20, 30, 35, 25, 18, 15, 40, 59, \n",
    "      65, 10, 20, 30, 35, 25, 18, 15, 40, 59, 65, 21, 19, 23, 27, 85, 62, 39]"
   ]
  },
  {
   "cell_type": "code",
   "execution_count": 56,
   "id": "8127a789-a933-4f9b-b4f8-7e5c3123dfed",
   "metadata": {},
   "outputs": [
    {
     "data": {
      "text/plain": [
       "37"
      ]
     },
     "execution_count": 56,
     "metadata": {},
     "output_type": "execute_result"
    }
   ],
   "source": [
    "len(ages)"
   ]
  },
  {
   "cell_type": "code",
   "execution_count": 39,
   "id": "195ee9f5-164c-4d2e-882e-6a6f5f679b66",
   "metadata": {},
   "outputs": [
    {
     "name": "stdout",
     "output_type": "stream",
     "text": [
      "33.16216216216216\n"
     ]
    }
   ],
   "source": [
    "\n",
    "import numpy as np\n",
    "ages_mean=np.mean(ages)\n",
    "print(ages_mean)\n"
   ]
  },
  {
   "cell_type": "code",
   "execution_count": 41,
   "id": "13348add-89d2-4d29-af69-2863999f29ed",
   "metadata": {},
   "outputs": [],
   "source": [
    "## taking sample\n",
    "sample_size=10\n",
    "age_sample=np.random.choice(ages,sample_size)"
   ]
  },
  {
   "cell_type": "code",
   "execution_count": 43,
   "id": "913f6dd3-2eec-40b0-b41c-0e71475674c3",
   "metadata": {},
   "outputs": [
    {
     "data": {
      "text/plain": [
       "array([59, 25, 40, 65, 23, 40, 25, 59, 15, 35])"
      ]
     },
     "execution_count": 43,
     "metadata": {},
     "output_type": "execute_result"
    }
   ],
   "source": [
    "age_sample"
   ]
  },
  {
   "cell_type": "code",
   "execution_count": 45,
   "id": "f647bdd8-345a-4f55-9b54-ba686941a80e",
   "metadata": {},
   "outputs": [],
   "source": [
    "from scipy.stats import ttest_1samp"
   ]
  },
  {
   "cell_type": "code",
   "execution_count": 47,
   "id": "dd0ed75f-007a-45b9-bd5e-448967ac3170",
   "metadata": {},
   "outputs": [],
   "source": [
    "ttest,p_value=ttest_1samp(age_sample,30)"
   ]
  },
  {
   "cell_type": "code",
   "execution_count": 49,
   "id": "d883d7ad-8fcd-4d5a-b5e6-6e43392c0de8",
   "metadata": {},
   "outputs": [
    {
     "name": "stdout",
     "output_type": "stream",
     "text": [
      "0.15193168433004312\n"
     ]
    }
   ],
   "source": [
    "print(p_value)"
   ]
  },
  {
   "cell_type": "code",
   "execution_count": 51,
   "id": "f1bbb814-ea37-4860-818f-a133509cfa9a",
   "metadata": {},
   "outputs": [
    {
     "name": "stdout",
     "output_type": "stream",
     "text": [
      "we are accepting null hypothesis\n"
     ]
    }
   ],
   "source": [
    "if p_value < 0.05: # alpha value is 0.05 or 5%\n",
    " print(\" we are rejecting null hypothesis\")\n",
    "else:\n",
    " print(\"we are accepting null hypothesis\")"
   ]
  },
  {
   "cell_type": "code",
   "execution_count": null,
   "id": "6b359eaf-915d-4054-b6a2-c520973abde3",
   "metadata": {},
   "outputs": [],
   "source": []
  },
  {
   "cell_type": "code",
   "execution_count": null,
   "id": "faacbb0d-6c8e-4638-8ffc-899493e6fd57",
   "metadata": {},
   "outputs": [],
   "source": []
  }
 ],
 "metadata": {
  "kernelspec": {
   "display_name": "Python 3 (ipykernel)",
   "language": "python",
   "name": "python3"
  },
  "language_info": {
   "codemirror_mode": {
    "name": "ipython",
    "version": 3
   },
   "file_extension": ".py",
   "mimetype": "text/x-python",
   "name": "python",
   "nbconvert_exporter": "python",
   "pygments_lexer": "ipython3",
   "version": "3.12.4"
  }
 },
 "nbformat": 4,
 "nbformat_minor": 5
}
