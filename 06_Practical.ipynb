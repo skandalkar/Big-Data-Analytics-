{
 "cells": [
  {
   "cell_type": "markdown",
   "id": "fd1915cd-f80a-40f0-b00a-382610797c92",
   "metadata": {},
   "source": [
    "Practical No. 06"
   ]
  },
  {
   "cell_type": "markdown",
   "id": "f1ce97ff-430d-42b0-a394-338f5419f20b",
   "metadata": {},
   "source": [
    "Aim : To perform and analysis of ANOVA parametric Test"
   ]
  },
  {
   "cell_type": "code",
   "execution_count": 3,
   "id": "863c9788-8f34-4877-bf59-caaf44ebaf38",
   "metadata": {},
   "outputs": [],
   "source": [
    "#Name : Santosh G. Kandalkar\n",
    "#Roll no. : 74 (BDA-B74)\n",
    "#Section : B\n",
    "#Subject : PE-II\n",
    "#Date : "
   ]
  },
  {
   "cell_type": "code",
   "execution_count": null,
   "id": "e88d6637-b46b-4986-a252-874b08479306",
   "metadata": {},
   "outputs": [],
   "source": []
  },
  {
   "cell_type": "code",
   "execution_count": 14,
   "id": "5b7d8bcd-0c67-4360-af44-ec024a0e0355",
   "metadata": {},
   "outputs": [],
   "source": [
    "age=[10,20,35,50,28,40,55,18,16,55,30,25,43,18,30,28,14,24,16,17,32,35,\n",
    "      26,27,65,18,43,23,21,20,19,70,80,81,82,83,84,85,86,87,89,88,90,91,92,93,94,95,96,97,98,99,100,74,79,68]"
   ]
  },
  {
   "cell_type": "code",
   "execution_count": 16,
   "id": "caf6230a-c761-487f-b100-663570843a3a",
   "metadata": {},
   "outputs": [
    {
     "data": {
      "text/plain": [
       "56"
      ]
     },
     "execution_count": 16,
     "metadata": {},
     "output_type": "execute_result"
    }
   ],
   "source": [
    "len(age)"
   ]
  },
  {
   "cell_type": "code",
   "execution_count": 18,
   "id": "54516984-71e8-4ac5-8730-d1526647ac9b",
   "metadata": {},
   "outputs": [],
   "source": [
    "import numpy as np\n",
    "sample_size=10\n",
    "age_sample=np.random.choice(age,sample_size)"
   ]
  },
  {
   "cell_type": "code",
   "execution_count": 20,
   "id": "73d11600-5eee-4993-ad31-37f1c3a969ea",
   "metadata": {},
   "outputs": [],
   "source": [
    "# Importing the required libraries \n",
    "import scipy.stats "
   ]
  },
  {
   "cell_type": "code",
   "execution_count": null,
   "id": "152cdc3d-547d-43b3-bc39-dce5554adad4",
   "metadata": {},
   "outputs": [],
   "source": []
  },
  {
   "cell_type": "code",
   "execution_count": 23,
   "id": "3bb84fe4-f598-4bad-95dd-5f06054d3385",
   "metadata": {},
   "outputs": [],
   "source": [
    "# Creating sample data \n",
    "data1 = [0.0842, 0.0368, 0.0847, 0.0935, 0.0376, 0.0963, 0.0684, \n",
    " 0.0758, 0.0854, 0.0855] \n",
    "data2 = [0.0785, 0.0845, 0.0758, 0.0853, 0.0946, 0.0785, 0.0853, \n",
    " 0.0685] \n",
    "data3 = [0.0864, 0.2522, 0.0894, 0.2724, 0.0853, 0.1367, 0.853] "
   ]
  },
  {
   "cell_type": "code",
   "execution_count": 25,
   "id": "89dcd36e-3a13-4a6d-9ec1-447362e557da",
   "metadata": {},
   "outputs": [
    {
     "name": "stdout",
     "output_type": "stream",
     "text": [
      "p-value is:  0.04043792126789144\n"
     ]
    }
   ],
   "source": [
    "# Performing the F-Test \n",
    "f_test, p_val = scipy.stats.f_oneway(data1, data2, data3) \n",
    "print(\"p-value is: \", p_val) "
   ]
  },
  {
   "cell_type": "code",
   "execution_count": null,
   "id": "b13429e8-3dba-48f8-bb15-f75def9676c3",
   "metadata": {},
   "outputs": [],
   "source": []
  },
  {
   "cell_type": "code",
   "execution_count": 28,
   "id": "7d915816-cdf4-4256-9f9a-e9ff98b2a4c7",
   "metadata": {},
   "outputs": [
    {
     "name": "stdout",
     "output_type": "stream",
     "text": [
      " We can reject the null hypothesis\n"
     ]
    }
   ],
   "source": [
    "# taking the threshold value as 0.05 or 5% \n",
    "if p_val < 0.05: \n",
    " print(\" We can reject the null hypothesis\") \n",
    "else: \n",
    " print(\"We can accept the null hypothesis\") "
   ]
  },
  {
   "cell_type": "code",
   "execution_count": 40,
   "id": "5ecec75e-848d-4bc2-98eb-78a50722ef3c",
   "metadata": {},
   "outputs": [
    {
     "name": "stdout",
     "output_type": "stream",
     "text": [
      "0.00040949560000000005\n"
     ]
    }
   ],
   "source": [
    "variance = np.var(data1)\n",
    "print(variance)"
   ]
  },
  {
   "cell_type": "code",
   "execution_count": null,
   "id": "2b898c0c-2e2e-4c53-b082-8de0379ce049",
   "metadata": {},
   "outputs": [],
   "source": []
  },
  {
   "cell_type": "code",
   "execution_count": 38,
   "id": "18b78ff0-d036-416f-893e-9623e02ad425",
   "metadata": {},
   "outputs": [
    {
     "name": "stdout",
     "output_type": "stream",
     "text": [
      "5.3606874999999995e-05\n"
     ]
    }
   ],
   "source": [
    "variance2 = np.var(data2)\n",
    "print(variance2)"
   ]
  },
  {
   "cell_type": "code",
   "execution_count": null,
   "id": "1fe6acb6-2113-4579-b9fe-761484254a8e",
   "metadata": {},
   "outputs": [],
   "source": []
  },
  {
   "cell_type": "code",
   "execution_count": 44,
   "id": "b7247bd4-925f-4cbe-8a4c-222a9827e4aa",
   "metadata": {},
   "outputs": [
    {
     "name": "stdout",
     "output_type": "stream",
     "text": [
      "0.06522053346938775\n"
     ]
    }
   ],
   "source": [
    "variance3 = np.var(data3)\n",
    "print(variance3)"
   ]
  },
  {
   "cell_type": "code",
   "execution_count": null,
   "id": "7e0541bb-587e-4df8-8d2d-b52861a5a507",
   "metadata": {},
   "outputs": [],
   "source": []
  }
 ],
 "metadata": {
  "kernelspec": {
   "display_name": "Python 3 (ipykernel)",
   "language": "python",
   "name": "python3"
  },
  "language_info": {
   "codemirror_mode": {
    "name": "ipython",
    "version": 3
   },
   "file_extension": ".py",
   "mimetype": "text/x-python",
   "name": "python",
   "nbconvert_exporter": "python",
   "pygments_lexer": "ipython3",
   "version": "3.12.4"
  }
 },
 "nbformat": 4,
 "nbformat_minor": 5
}
