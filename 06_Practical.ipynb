{
 "cells": [
  {
   "cell_type": "markdown",
   "id": "fd1915cd-f80a-40f0-b00a-382610797c92",
   "metadata": {},
   "source": [
    "Practical No. 06"
   ]
  },
  {
   "cell_type": "markdown",
   "id": "f1ce97ff-430d-42b0-a394-338f5419f20b",
   "metadata": {},
   "source": [
    "Aim : To perform and analysis of ANOVA parametric Test"
   ]
  },
  {
   "cell_type": "code",
   "execution_count": 3,
   "id": "863c9788-8f34-4877-bf59-caaf44ebaf38",
   "metadata": {},
   "outputs": [],
   "source": [
    "#Name : Santosh G. Kandalkar\n",
    "#Roll no. : 74 (BDA-B74)\n",
    "#Section : B\n",
    "#Subject : PE-II\n",
    "#Date : "
   ]
  },
  {
   "cell_type": "code",
   "execution_count": null,
   "id": "e88d6637-b46b-4986-a252-874b08479306",
   "metadata": {},
   "outputs": [],
   "source": []
  },
  {
   "cell_type": "code",
   "execution_count": 6,
   "id": "5b7d8bcd-0c67-4360-af44-ec024a0e0355",
   "metadata": {},
   "outputs": [
    {
     "name": "stdout",
     "output_type": "stream",
     "text": [
      "p-value is:  0.04043792126789144\n",
      " We can reject the null hypothesis\n"
     ]
    }
   ],
   "source": [
    "# Python program to implement One-Way f-test \n",
    " \n",
    "# Importing the required libraries \n",
    "import scipy.stats \n",
    " \n",
    "# Creating sample data \n",
    "data1 = [0.0842, 0.0368, 0.0847, 0.0935, 0.0376, 0.0963, 0.0684, \n",
    " 0.0758, 0.0854, 0.0855] \n",
    "data2 = [0.0785, 0.0845, 0.0758, 0.0853, 0.0946, 0.0785, 0.0853, \n",
    " 0.0685] \n",
    "data3 = [0.0864, 0.2522, 0.0894, 0.2724, 0.0853, 0.1367, 0.853] \n",
    " \n",
    "# Performing the F-Test \n",
    "f_test, p_val = scipy.stats.f_oneway(data1, data2, data3) \n",
    "print(\"p-value is: \", p_val) \n",
    " \n",
    "# taking the threshold value as 0.05 or 5% \n",
    "if p_val < 0.05: \n",
    " print(\" We can reject the null hypothesis\") \n",
    "else: \n",
    " print(\"We can accept the null hypothesis\") "
   ]
  },
  {
   "cell_type": "code",
   "execution_count": null,
   "id": "caf6230a-c761-487f-b100-663570843a3a",
   "metadata": {},
   "outputs": [],
   "source": []
  },
  {
   "cell_type": "code",
   "execution_count": null,
   "id": "54516984-71e8-4ac5-8730-d1526647ac9b",
   "metadata": {},
   "outputs": [],
   "source": []
  }
 ],
 "metadata": {
  "kernelspec": {
   "display_name": "Python 3 (ipykernel)",
   "language": "python",
   "name": "python3"
  },
  "language_info": {
   "codemirror_mode": {
    "name": "ipython",
    "version": 3
   },
   "file_extension": ".py",
   "mimetype": "text/x-python",
   "name": "python",
   "nbconvert_exporter": "python",
   "pygments_lexer": "ipython3",
   "version": "3.12.4"
  }
 },
 "nbformat": 4,
 "nbformat_minor": 5
}
