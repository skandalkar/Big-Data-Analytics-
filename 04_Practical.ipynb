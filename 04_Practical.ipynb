{
 "cells": [
  {
   "cell_type": "markdown",
   "id": "c7b8a215-175d-4ada-991f-4f6d4b00758e",
   "metadata": {},
   "source": [
    "Practical No. 04"
   ]
  },
  {
   "cell_type": "markdown",
   "id": "268d9120-2485-455e-88e7-a77c7382ebee",
   "metadata": {},
   "source": [
    "Aim : To perform and analysis of Z Test parametric Test"
   ]
  },
  {
   "cell_type": "code",
   "execution_count": 3,
   "id": "e2f1a100-b517-479b-b746-bc33fd8a59fc",
   "metadata": {},
   "outputs": [],
   "source": [
    "#Name : Santosh G. Kandalkar\n",
    "#Roll no. : 74 (BDA-B74)\n",
    "#Section : B\n",
    "#Subject : PE-II\n",
    "#Date : "
   ]
  },
  {
   "cell_type": "code",
   "execution_count": null,
   "id": "35bebcf9-4378-420b-bacb-8a270287f420",
   "metadata": {},
   "outputs": [],
   "source": []
  },
  {
   "cell_type": "code",
   "execution_count": 8,
   "id": "7c5e5f95-3833-4ef3-8927-935bcf2ce005",
   "metadata": {},
   "outputs": [
    {
     "name": "stdout",
     "output_type": "stream",
     "text": [
      "2.417334226169332e-186\n",
      "We can reject the null hypothesis\n"
     ]
    }
   ],
   "source": [
    "# Python program to implement One Sample Z-Test \n",
    " \n",
    "# Importing the required libraries \n",
    "import pandas as pd \n",
    "from scipy import stats \n",
    "from statsmodels.stats import weightstats as stests \n",
    " \n",
    "# Creating a dataset \n",
    "data = [89, 93, 95, 93, 97, 98, 96, 99, 93, 97, 110, 104, 119, 105, 104, 110, 110, 112, 115, 114] \n",
    " \n",
    "# Performing the z-test \n",
    "z_test ,p_val = stests.ztest(data, x2 = None, value = 160) \n",
    "print(p_val) \n",
    " \n",
    "# taking the threshold value as 0.05 or 5% \n",
    "if p_val < 0.05: \n",
    " print(\"We can reject the null hypothesis\") \n",
    "else: \n",
    " print(\"We can accept the null hypothesis\") "
   ]
  },
  {
   "cell_type": "code",
   "execution_count": null,
   "id": "9afe55de-fd70-4001-811d-035edc7a9ae3",
   "metadata": {},
   "outputs": [],
   "source": []
  },
  {
   "cell_type": "code",
   "execution_count": null,
   "id": "256c61cd-1828-4745-a81b-b6b9a26125c7",
   "metadata": {},
   "outputs": [],
   "source": []
  }
 ],
 "metadata": {
  "kernelspec": {
   "display_name": "Python 3 (ipykernel)",
   "language": "python",
   "name": "python3"
  },
  "language_info": {
   "codemirror_mode": {
    "name": "ipython",
    "version": 3
   },
   "file_extension": ".py",
   "mimetype": "text/x-python",
   "name": "python",
   "nbconvert_exporter": "python",
   "pygments_lexer": "ipython3",
   "version": "3.12.4"
  }
 },
 "nbformat": 4,
 "nbformat_minor": 5
}
